{
 "cells": [
  {
   "cell_type": "markdown",
   "metadata": {},
   "source": [
    "This is a project on housing prices in the city of Ames, Iowa, where our goal is to find the price of houses based off of factors listed about the home. The dataset can be found on Kaggle and it is called \"House Prices - Advanced Regression Techniques\". "
   ]
  },
  {
   "cell_type": "code",
   "execution_count": null,
   "metadata": {},
   "outputs": [],
   "source": [
    "# import libraries\n",
    "import matplotlib\n",
    "import numpy\n",
    "import seaborn\n"
   ]
  }
 ],
 "metadata": {
  "language_info": {
   "name": "python"
  }
 },
 "nbformat": 4,
 "nbformat_minor": 2
}
